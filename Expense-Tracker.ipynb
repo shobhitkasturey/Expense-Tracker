{
 "cells": [
  {
   "cell_type": "code",
   "execution_count": 2,
   "id": "f33ea414",
   "metadata": {},
   "outputs": [
    {
     "name": "stdout",
     "output_type": "stream",
     "text": [
      "Requirement already satisfied: mysql-connector-python in w:\\anaconda\\lib\\site-packages (8.3.0)\n",
      "Note: you may need to restart the kernel to use updated packages.\n"
     ]
    }
   ],
   "source": [
    "pip install mysql-connector-python"
   ]
  },
  {
   "cell_type": "code",
   "execution_count": null,
   "id": "c4830850",
   "metadata": {},
   "outputs": [
    {
     "name": "stdout",
     "output_type": "stream",
     "text": [
      "1. Add Expense\n",
      "2. View Expense Report\n",
      "3. Exit\n",
      "Enter your choice: 1\n",
      "Enter the amount: 10\n",
      "Enter the category: food\n",
      "Enter the description: samosa\n",
      "Expense added successfully!\n",
      "--------------------\n",
      "1. Add Expense\n",
      "2. View Expense Report\n",
      "3. Exit\n"
     ]
    }
   ],
   "source": [
    "import mysql.connector\n",
    "\n",
    "class ExpenseTracker:\n",
    "    def __init__(self, host, user, password, database):\n",
    "        self.conn = mysql.connector.connect(\n",
    "            host=host,\n",
    "            user=user,\n",
    "            password=password,\n",
    "            database=database\n",
    "        )\n",
    "        self.cursor = self.conn.cursor()\n",
    "        self.create_table()\n",
    "\n",
    "    def create_table(self):\n",
    "        self.cursor.execute(\"\"\"CREATE TABLE IF NOT EXISTS expenses (\n",
    "                            id INT AUTO_INCREMENT PRIMARY KEY,\n",
    "                            amount DECIMAL(10, 2),\n",
    "                            category VARCHAR(255),\n",
    "                            description VARCHAR(255)\n",
    "                        )\"\"\")\n",
    "\n",
    "    def add_expense(self, amount, category, description):\n",
    "        query = \"INSERT INTO expenses (amount, category, description) VALUES (%s, %s, %s)\"\n",
    "        self.cursor.execute(query, (amount, category, description))\n",
    "        self.conn.commit()\n",
    "\n",
    "    def view_expense_report(self):\n",
    "        query = \"SELECT * FROM expenses\"\n",
    "        self.cursor.execute(query)\n",
    "        expenses = self.cursor.fetchall()\n",
    "        for expense in expenses:\n",
    "            print(\"ID:\", expense[0])\n",
    "            print(\"Amount:\", expense[1])\n",
    "            print(\"Category:\", expense[2])\n",
    "            print(\"Description:\", expense[3])\n",
    "            print(\"--------------------\")\n",
    "\n",
    "def main():\n",
    "    host = \"127.0.0.1\"\n",
    "    user = \"root\"\n",
    "    password = \"shobhit@#$123\"\n",
    "    database = \"expense\"\n",
    "    \n",
    "    tracker = ExpenseTracker(host, user, password, database)\n",
    "\n",
    "    while True:\n",
    "        print(\"1. Add Expense\")\n",
    "        print(\"2. View Expense Report\")\n",
    "        print(\"3. Exit\")\n",
    "        choice = input(\"Enter your choice: \")\n",
    "\n",
    "        if choice == '1':\n",
    "            amount = float(input(\"Enter the amount: \"))\n",
    "            category = input(\"Enter the category: \")\n",
    "            description = input(\"Enter the description: \")\n",
    "            tracker.add_expense(amount, category, description)\n",
    "            print(\"Expense added successfully!\")\n",
    "            print(\"--------------------\")\n",
    "        elif choice == '2':\n",
    "            print(\"Expense Report:\")\n",
    "            tracker.view_expense_report()\n",
    "        elif choice == '3':\n",
    "            print(\"Exiting...\")\n",
    "            break\n",
    "        else:\n",
    "            print(\"Invalid choice. Please enter again.\")\n",
    "\n",
    "    tracker.conn.close()\n",
    "\n",
    "if __name__ == \"__main__\":\n",
    "    main()\n",
    "\n"
   ]
  },
  {
   "cell_type": "code",
   "execution_count": null,
   "id": "c3c9d061",
   "metadata": {},
   "outputs": [],
   "source": []
  }
 ],
 "metadata": {
  "kernelspec": {
   "display_name": "env1",
   "language": "python",
   "name": "env1"
  },
  "language_info": {
   "codemirror_mode": {
    "name": "ipython",
    "version": 3
   },
   "file_extension": ".py",
   "mimetype": "text/x-python",
   "name": "python",
   "nbconvert_exporter": "python",
   "pygments_lexer": "ipython3",
   "version": "3.11.3"
  }
 },
 "nbformat": 4,
 "nbformat_minor": 5
}
